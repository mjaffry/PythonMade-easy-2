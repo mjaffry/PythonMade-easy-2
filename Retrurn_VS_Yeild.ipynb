{
  "nbformat": 4,
  "nbformat_minor": 0,
  "metadata": {
    "colab": {
      "name": "Retrurn VS Yeild.ipynb",
      "provenance": [],
      "collapsed_sections": [],
      "authorship_tag": "ABX9TyOMtLRbXNfOIsrMGSgr4XhI",
      "include_colab_link": true
    },
    "kernelspec": {
      "name": "python3",
      "display_name": "Python 3"
    }
  },
  "cells": [
    {
      "cell_type": "markdown",
      "metadata": {
        "id": "view-in-github",
        "colab_type": "text"
      },
      "source": [
        "<a href=\"https://colab.research.google.com/github/mjaffry/PythonMade-easy-2/blob/main/Retrurn_VS_Yeild.ipynb\" target=\"_parent\"><img src=\"https://colab.research.google.com/assets/colab-badge.svg\" alt=\"Open In Colab\"/></a>"
      ]
    },
    {
      "cell_type": "code",
      "metadata": {
        "id": "NzpY_wHihQSy"
      },
      "source": [
        "def greet():\r\n",
        "\tprint('Hello! ', end='')"
      ],
      "execution_count": 2,
      "outputs": []
    },
    {
      "cell_type": "code",
      "metadata": {
        "id": "xiiulW0dlmT-"
      },
      "source": [
        "class Student:\r\n",
        "\r\n",
        "    def __init__(self, name):\r\n",
        "        self.__name = name\r\n",
        "\r\n",
        "    @property\r\n",
        "    def name(self):\r\n",
        "        return self.__name"
      ],
      "execution_count": 10,
      "outputs": []
    },
    {
      "cell_type": "code",
      "metadata": {
        "colab": {
          "base_uri": "https://localhost:8080/",
          "height": 35
        },
        "id": "uHLD2NiWlqCf",
        "outputId": "be16892d-2a27-48d0-ea8d-4cf18ea1eea8"
      },
      "source": [
        "s = Student('Steve')\r\n",
        "s.name \r\n"
      ],
      "execution_count": 11,
      "outputs": [
        {
          "output_type": "execute_result",
          "data": {
            "application/vnd.google.colaboratory.intrinsic+json": {
              "type": "string"
            },
            "text/plain": [
              "'Steve'"
            ]
          },
          "metadata": {
            "tags": []
          },
          "execution_count": 11
        }
      ]
    },
    {
      "cell_type": "code",
      "metadata": {
        "id": "owLS3_NAmLYx"
      },
      "source": [
        "class Student:\r\n",
        "\r\n",
        "    def __init__(self, name):\r\n",
        "        self.__name=name\r\n",
        "\r\n",
        "    @property\r\n",
        "    def name(self):\r\n",
        "        return self.__name\r\n",
        "\r\n",
        "    @name.setter   #property-name.setter decorator\r\n",
        "    def name(self, value):\r\n",
        "        self.__name = value"
      ],
      "execution_count": 13,
      "outputs": []
    },
    {
      "cell_type": "code",
      "metadata": {
        "id": "LzQwaYMDmyaC"
      },
      "source": [
        "class Student:\r\n",
        "    def __init__(self, name):\r\n",
        "        self.__name = name\r\n",
        "\r\n",
        "    @property\r\n",
        "    def name(self):\r\n",
        "        return self.__name\r\n",
        "    \r\n",
        "    @name.setter\r\n",
        "    def name(self, value):\r\n",
        "        self.__name=value\r\n",
        "    \r\n",
        "    @name.deleter   #property-name.deleter decorator\r\n",
        "    def name(self, value):\r\n",
        "        print('Deleting..')\r\n",
        "        del self.__name"
      ],
      "execution_count": 14,
      "outputs": []
    },
    {
      "cell_type": "code",
      "metadata": {
        "id": "m0yq22CNmQ3Q"
      },
      "source": [
        "s = Student('Steve')\r\n",
        "s.name \r\n",
        "\r\n",
        "s.name = 'Bill'\r\n"
      ],
      "execution_count": null,
      "outputs": []
    },
    {
      "cell_type": "code",
      "metadata": {
        "id": "NHhd35ighj3U"
      },
      "source": [
        "def mydecorator(fn):\r\n",
        "\tfn()\r\n",
        "\tprint('How are you?')"
      ],
      "execution_count": 3,
      "outputs": []
    },
    {
      "cell_type": "code",
      "metadata": {
        "colab": {
          "base_uri": "https://localhost:8080/"
        },
        "id": "5zx4Bz22h7Zh",
        "outputId": "4674289d-ce94-4f28-819a-ec1f680df661"
      },
      "source": [
        " mydecorator(greet)\r\n"
      ],
      "execution_count": 4,
      "outputs": [
        {
          "output_type": "stream",
          "text": [
            "Hello! How are you?\n"
          ],
          "name": "stdout"
        }
      ]
    },
    {
      "cell_type": "code",
      "metadata": {
        "id": "lsTDSIDHivak"
      },
      "source": [
        "def mydecorator(fn):\r\n",
        "    def inner_function():        \r\n",
        "        fn()\r\n",
        "        print('How are you?')\r\n",
        "    return inner_function"
      ],
      "execution_count": 6,
      "outputs": []
    },
    {
      "cell_type": "code",
      "metadata": {
        "colab": {
          "base_uri": "https://localhost:8080/"
        },
        "id": "JH-j4OQAi8au",
        "outputId": "da147039-39a4-4087-9650-7185595bde21"
      },
      "source": [
        "@mydecorator\r\n",
        "def greet():\r\n",
        "\tprint('Hello! ', end='')\r\n",
        "\r\n",
        "greet()"
      ],
      "execution_count": 9,
      "outputs": [
        {
          "output_type": "stream",
          "text": [
            "Hello! How are you?\n"
          ],
          "name": "stdout"
        }
      ]
    },
    {
      "cell_type": "code",
      "metadata": {
        "id": "SNgIEFjRlGxd"
      },
      "source": [
        "def mydecoratorfunction(some_function): # decorator function\r\n",
        "    def inner_function(): \r\n",
        "        # write code to extend the behavior of some_function()\r\n",
        "        some_function() # call some_function\r\n",
        "        # write code to extend the behavior of some_function()\r\n",
        "    return inner_function # return a wrapper function"
      ],
      "execution_count": null,
      "outputs": []
    },
    {
      "cell_type": "code",
      "metadata": {
        "colab": {
          "base_uri": "https://localhost:8080/",
          "height": 35
        },
        "id": "X4wGH3hPJP_u",
        "outputId": "e60372a9-6f87-4769-cddf-137a8f56972f"
      },
      "source": [
        "i=\"10\"\r\n",
        "j=\"20\"\r\n",
        "k= i+j\r\n",
        "k"
      ],
      "execution_count": 15,
      "outputs": [
        {
          "output_type": "execute_result",
          "data": {
            "application/vnd.google.colaboratory.intrinsic+json": {
              "type": "string"
            },
            "text/plain": [
              "'1020'"
            ]
          },
          "metadata": {
            "tags": []
          },
          "execution_count": 15
        }
      ]
    },
    {
      "cell_type": "markdown",
      "metadata": {
        "id": "Ug1EBHj3jPoH"
      },
      "source": [
        ""
      ]
    },
    {
      "cell_type": "code",
      "metadata": {
        "colab": {
          "base_uri": "https://localhost:8080/"
        },
        "id": "Kq3AMLFg-Va5",
        "outputId": "a1d94a00-de9b-46d2-e30d-6035c91fc447"
      },
      "source": [
        "i=10\r\n",
        "print(type(i))"
      ],
      "execution_count": 12,
      "outputs": [
        {
          "output_type": "stream",
          "text": [
            "<class 'int'>\n"
          ],
          "name": "stdout"
        }
      ]
    },
    {
      "cell_type": "code",
      "metadata": {
        "colab": {
          "base_uri": "https://localhost:8080/"
        },
        "id": "SZkGb92y8bQ4",
        "outputId": "0335026d-a0a6-41b0-bcd4-99cebe5668a7"
      },
      "source": [
        " \r\n",
        "c= lambda x, y: x+y\r\n",
        "print(c(10,20))"
      ],
      "execution_count": 11,
      "outputs": [
        {
          "output_type": "stream",
          "text": [
            "30\n"
          ],
          "name": "stdout"
        }
      ]
    },
    {
      "cell_type": "code",
      "metadata": {
        "colab": {
          "base_uri": "https://localhost:8080/"
        },
        "id": "hSYkHFKNi3Cb",
        "outputId": "6db7160b-1e90-4e1b-d0a4-e9a84b76e131"
      },
      "source": [
        "def fruits():\r\n",
        "  return \"Apple\",\"Banana\",1, True\r\n",
        "fruits()"
      ],
      "execution_count": 31,
      "outputs": [
        {
          "output_type": "execute_result",
          "data": {
            "text/plain": [
              "('Apple', 'Banana', 1, True)"
            ]
          },
          "metadata": {
            "tags": []
          },
          "execution_count": 31
        }
      ]
    },
    {
      "cell_type": "code",
      "metadata": {
        "colab": {
          "base_uri": "https://localhost:8080/"
        },
        "id": "Vh8_hXZCfUig",
        "outputId": "bbd1555d-ff37-4db4-df0b-17f6de73751c"
      },
      "source": [
        "def squareVal(valParameter):\r\n",
        "  valParameter =valParameter +10\r\n",
        "  print(id(valParameter))\r\n",
        "  print(valParameter)\r\n",
        "\r\n",
        "valParameter=100\r\n",
        "squareVal(valParameter)\r\n",
        "print(id( valParameter))\r\n",
        "\r\n"
      ],
      "execution_count": 61,
      "outputs": [
        {
          "output_type": "stream",
          "text": [
            "10917984\n",
            "110\n",
            "10917664\n"
          ],
          "name": "stdout"
        }
      ]
    },
    {
      "cell_type": "code",
      "metadata": {
        "colab": {
          "base_uri": "https://localhost:8080/"
        },
        "id": "1yHJVkjuhbOo",
        "outputId": "8f22f76b-423e-4ee8-bad7-84709800c9f9"
      },
      "source": [
        "def Funfruits (lofFruits):\r\n",
        "  lofFruits.append(\"Lichi\")\r\n",
        "  print(lofFruits) \r\n",
        "\r\n",
        "MyFruits= [\"Apple\", \"Banana\" , \"Mango\",\"Pine Apple\"]\r\n",
        "print (id(MyFruits))\r\n",
        "Funfruits(MyFruits)\r\n",
        "MyFruits\r\n",
        "print(id(MyFruits))\r\n"
      ],
      "execution_count": 60,
      "outputs": [
        {
          "output_type": "stream",
          "text": [
            "140697967362760\n",
            "['Apple', 'Banana', 'Mango', 'Pine Apple', 'Lichi']\n",
            "140697967362760\n"
          ],
          "name": "stdout"
        }
      ]
    },
    {
      "cell_type": "code",
      "metadata": {
        "colab": {
          "base_uri": "https://localhost:8080/"
        },
        "id": "rbZGgEeuuIkD",
        "outputId": "4ec104fb-8762-4a92-9de7-a9d5dfc86830"
      },
      "source": [
        "def Funfruits (abc):\r\n",
        "  abc=[]\r\n",
        "  abc.append(\"Lichi\")\r\n",
        "  print(abc) \r\n",
        "\r\n",
        "abc= [\"Apple\", \"Banana\" , \"Mango\",\"Pine Apple\"]\r\n",
        "print(abc)\r\n",
        "\r\n",
        "Funfruits(abc)\r\n",
        "print (abc)\r\n",
        "\r\n"
      ],
      "execution_count": 71,
      "outputs": [
        {
          "output_type": "stream",
          "text": [
            "['Apple', 'Banana', 'Mango', 'Pine Apple']\n",
            "['Lichi']\n",
            "['Apple', 'Banana', 'Mango', 'Pine Apple']\n"
          ],
          "name": "stdout"
        }
      ]
    },
    {
      "cell_type": "code",
      "metadata": {
        "id": "LogNCreAtIgS"
      },
      "source": [
        "def Funfruits (lofFruits):\r\n",
        "  lofFruits.append(\"Lichi\")\r\n",
        "  print(lofFruits) \r\n",
        "\r\n",
        "MyFruits= [\"Apple\", \"Banana\" , \"Mango\",\"Pine Apple\"]\r\n",
        "print (id(MyFruits))\r\n",
        "Funfruits(MyFruits)\r\n",
        "MyFruits\r\n",
        "print(id(MyFruits))"
      ],
      "execution_count": null,
      "outputs": []
    },
    {
      "cell_type": "code",
      "metadata": {
        "id": "P20WxVH1tVwr"
      },
      "source": [
        ""
      ],
      "execution_count": null,
      "outputs": []
    },
    {
      "cell_type": "code",
      "metadata": {
        "colab": {
          "base_uri": "https://localhost:8080/"
        },
        "id": "yy2ownAecJ_X",
        "outputId": "07fc5ce0-92e3-458f-83a6-994b08d8c8ff"
      },
      "source": [
        "def fruits():\r\n",
        "  return \"Apple\", 1\r\n",
        "\r\n",
        "print (fruits()) \r\n"
      ],
      "execution_count": 24,
      "outputs": [
        {
          "output_type": "stream",
          "text": [
            "('Apple', 1)\n"
          ],
          "name": "stdout"
        }
      ]
    },
    {
      "cell_type": "code",
      "metadata": {
        "colab": {
          "base_uri": "https://localhost:8080/"
        },
        "id": "lWqH22khXp3F",
        "outputId": "9f1dddbe-7876-4566-bbda-0ce392e05126"
      },
      "source": [
        "def fruits ():\r\n",
        "  MyFruits= [\"Apple\", \"Banana\" , \"Mango\",\"Pine Apple\"]\r\n",
        "  return MyFruits\r\n",
        "fruits()"
      ],
      "execution_count": 3,
      "outputs": [
        {
          "output_type": "execute_result",
          "data": {
            "text/plain": [
              "['Apple', 'Banana', 'Mango', 'Pine Apple']"
            ]
          },
          "metadata": {
            "tags": []
          },
          "execution_count": 3
        }
      ]
    },
    {
      "cell_type": "code",
      "metadata": {
        "id": "RE-_lsLTmc85"
      },
      "source": [
        "MyFruits= [\"Apple\", \"Banana\", \"Mango\",\"Pine Apple\"]\r\n",
        "def fruits(lst):\r\n",
        "\r\n",
        "  newFruits =[]\r\n",
        "  for f in lst:\r\n",
        "    newFruits.append(f)\r\n",
        "  return newFruits"
      ],
      "execution_count": 33,
      "outputs": []
    },
    {
      "cell_type": "code",
      "metadata": {
        "colab": {
          "base_uri": "https://localhost:8080/"
        },
        "id": "ktywyYr1m0ec",
        "outputId": "9536a029-cdea-4ae7-b14d-547daf9898ff"
      },
      "source": [
        "fruits(MyFruits)"
      ],
      "execution_count": 35,
      "outputs": [
        {
          "output_type": "execute_result",
          "data": {
            "text/plain": [
              "['Apple', 'Banana', 'Mango', 'Pine Apple']"
            ]
          },
          "metadata": {
            "tags": []
          },
          "execution_count": 35
        }
      ]
    },
    {
      "cell_type": "code",
      "metadata": {
        "colab": {
          "base_uri": "https://localhost:8080/"
        },
        "id": "mNmVLHMS6MUm",
        "outputId": "accf46ac-2cd0-4616-9100-5b3f755fa586"
      },
      "source": [
        "mylist =[4,5,6,9]\r\n",
        "my_iter = iter(mylist)\r\n",
        "\r\n",
        "print (next(my_iter))\r\n",
        "print (next(my_iter))\r\n",
        "print (next(my_iter))"
      ],
      "execution_count": 7,
      "outputs": [
        {
          "output_type": "stream",
          "text": [
            "4\n",
            "5\n",
            "6\n"
          ],
          "name": "stdout"
        }
      ]
    },
    {
      "cell_type": "code",
      "metadata": {
        "colab": {
          "base_uri": "https://localhost:8080/"
        },
        "id": "DltW2vuBYMPA",
        "outputId": "0f75e7ba-c6cf-49b2-80c0-bf2dcdcaffd7"
      },
      "source": [
        "MyFruits= [\"Apple\", \"Banana\", \"Mango\",\"Pine Apple\"]\r\n",
        "def fruits(lst):\r\n",
        " \r\n",
        "  for f in lst:\r\n",
        "    yield f\r\n",
        "     \r\n",
        "  \r\n",
        "\r\n",
        "fruit= fruits(MyFruits)\r\n",
        "\r\n",
        "print(next(fruit))\r\n",
        "print(next(fruit))\r\n",
        "print(next(fruit))\r\n",
        "print(next(fruit))\r\n",
        "\r\n"
      ],
      "execution_count": 55,
      "outputs": [
        {
          "output_type": "stream",
          "text": [
            "Apple\n",
            "Banana\n",
            "Mango\n",
            "Pine Apple\n"
          ],
          "name": "stdout"
        }
      ]
    },
    {
      "cell_type": "code",
      "metadata": {
        "colab": {
          "base_uri": "https://localhost:8080/",
          "height": 256
        },
        "id": "IyD4Vwy7ne3N",
        "outputId": "9fb9d2d7-0438-4a3a-9f89-45672b77bac9"
      },
      "source": [
        "\r\n",
        "\r\n",
        "\r\n"
      ],
      "execution_count": 54,
      "outputs": [
        {
          "output_type": "stream",
          "text": [
            "Pine Apple\n"
          ],
          "name": "stdout"
        },
        {
          "output_type": "error",
          "ename": "StopIteration",
          "evalue": "ignored",
          "traceback": [
            "\u001b[0;31m---------------------------------------------------------------------------\u001b[0m",
            "\u001b[0;31mStopIteration\u001b[0m                             Traceback (most recent call last)",
            "\u001b[0;32m<ipython-input-54-141cff548837>\u001b[0m in \u001b[0;36m<module>\u001b[0;34m()\u001b[0m\n\u001b[1;32m      1\u001b[0m \u001b[0;34m\u001b[0m\u001b[0m\n\u001b[1;32m      2\u001b[0m \u001b[0mprint\u001b[0m\u001b[0;34m(\u001b[0m\u001b[0mnext\u001b[0m\u001b[0;34m(\u001b[0m\u001b[0mfruit\u001b[0m\u001b[0;34m)\u001b[0m\u001b[0;34m)\u001b[0m\u001b[0;34m\u001b[0m\u001b[0;34m\u001b[0m\u001b[0m\n\u001b[0;32m----> 3\u001b[0;31m \u001b[0mprint\u001b[0m\u001b[0;34m(\u001b[0m\u001b[0mnext\u001b[0m\u001b[0;34m(\u001b[0m\u001b[0mfruit\u001b[0m\u001b[0;34m)\u001b[0m\u001b[0;34m)\u001b[0m\u001b[0;34m\u001b[0m\u001b[0;34m\u001b[0m\u001b[0m\n\u001b[0m\u001b[1;32m      4\u001b[0m \u001b[0mprint\u001b[0m\u001b[0;34m(\u001b[0m\u001b[0mnext\u001b[0m\u001b[0;34m(\u001b[0m\u001b[0mfruit\u001b[0m\u001b[0;34m)\u001b[0m\u001b[0;34m)\u001b[0m\u001b[0;34m\u001b[0m\u001b[0;34m\u001b[0m\u001b[0m\n\u001b[1;32m      5\u001b[0m \u001b[0mprint\u001b[0m\u001b[0;34m(\u001b[0m\u001b[0mnext\u001b[0m\u001b[0;34m(\u001b[0m\u001b[0mfruit\u001b[0m\u001b[0;34m)\u001b[0m\u001b[0;34m)\u001b[0m\u001b[0;34m\u001b[0m\u001b[0;34m\u001b[0m\u001b[0m\n",
            "\u001b[0;31mStopIteration\u001b[0m: "
          ]
        }
      ]
    },
    {
      "cell_type": "code",
      "metadata": {
        "colab": {
          "base_uri": "https://localhost:8080/"
        },
        "id": "MSMHjwjpnPsr",
        "outputId": "6224e168-b001-44d9-af54-0e728fa246d4"
      },
      "source": [
        "for f in fruit:\r\n",
        "  print (f)"
      ],
      "execution_count": 38,
      "outputs": [
        {
          "output_type": "stream",
          "text": [
            "Apple\n",
            "Banana\n",
            "Mango\n",
            "Pine Apple\n"
          ],
          "name": "stdout"
        }
      ]
    }
  ]
}